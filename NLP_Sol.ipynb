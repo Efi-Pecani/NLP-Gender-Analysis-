{
  "nbformat": 4,
  "nbformat_minor": 0,
  "metadata": {
    "colab": {
      "name": "NLP_Sol.ipynb",
      "provenance": []
    },
    "kernelspec": {
      "name": "python3",
      "display_name": "Python 3"
    },
    "language_info": {
      "name": "python"
    }
  },
  "cells": [
    {
      "cell_type": "markdown",
      "metadata": {
        "id": "DPh3apylasT7"
      },
      "source": [
        "# **NLP Exercise Solution** \n",
        "# Wiki gender pages comparison"
      ]
    },
    {
      "cell_type": "code",
      "metadata": {
        "id": "LKDIgYzpeilU",
        "colab": {
          "base_uri": "https://localhost:8080/"
        },
        "outputId": "e31e547d-7fae-427d-85a8-abc031a29d81"
      },
      "source": [
        "import nltk\n",
        "nltk.download(\"names\")\n",
        "nltk.download(\"genesis\")\n",
        "nltk.download(\"inaugural\")\n",
        "nltk.download(\"nps_chat\")\n",
        "nltk.download(\"webtext\")\n",
        "nltk.download(\"treebank\")\n",
        "nltk.download('gutenberg')\n",
        "nltk.download('punkt')"
      ],
      "execution_count": 57,
      "outputs": [
        {
          "output_type": "stream",
          "text": [
            "[nltk_data] Downloading package names to /root/nltk_data...\n",
            "[nltk_data]   Package names is already up-to-date!\n",
            "[nltk_data] Downloading package genesis to /root/nltk_data...\n",
            "[nltk_data]   Package genesis is already up-to-date!\n",
            "[nltk_data] Downloading package inaugural to /root/nltk_data...\n",
            "[nltk_data]   Package inaugural is already up-to-date!\n",
            "[nltk_data] Downloading package nps_chat to /root/nltk_data...\n",
            "[nltk_data]   Package nps_chat is already up-to-date!\n",
            "[nltk_data] Downloading package webtext to /root/nltk_data...\n",
            "[nltk_data]   Package webtext is already up-to-date!\n",
            "[nltk_data] Downloading package treebank to /root/nltk_data...\n",
            "[nltk_data]   Package treebank is already up-to-date!\n",
            "[nltk_data] Downloading package gutenberg to /root/nltk_data...\n",
            "[nltk_data]   Package gutenberg is already up-to-date!\n",
            "[nltk_data] Downloading package punkt to /root/nltk_data...\n",
            "[nltk_data]   Package punkt is already up-to-date!\n"
          ],
          "name": "stdout"
        },
        {
          "output_type": "execute_result",
          "data": {
            "text/plain": [
              "True"
            ]
          },
          "metadata": {
            "tags": []
          },
          "execution_count": 57
        }
      ]
    },
    {
      "cell_type": "code",
      "metadata": {
        "id": "l1Zx0ukhfeds"
      },
      "source": [
        "import matplotlib.pyplot as plt\n",
        "import pandas as pd\n",
        "import seaborn as sns\n",
        "import numpy as np"
      ],
      "execution_count": 58,
      "outputs": []
    },
    {
      "cell_type": "markdown",
      "metadata": {
        "id": "lCK4km0z_Y6k"
      },
      "source": [
        "# Israeli Vs. European Startups\n",
        "## Female names mentioned in wiki pages comparison"
      ]
    },
    {
      "cell_type": "code",
      "metadata": {
        "id": "k4r_ROKPeq_O"
      },
      "source": [
        "names=nltk.corpus.names.words()\n",
        "female_names=nltk.corpus.names.words('female.txt')\n",
        "male_names = nltk.corpus.names.words('male.txt')\n"
      ],
      "execution_count": 59,
      "outputs": []
    },
    {
      "cell_type": "markdown",
      "metadata": {
        "id": "piGLXqwLEWvD"
      },
      "source": [
        "# Analyzing Functions"
      ]
    },
    {
      "cell_type": "code",
      "metadata": {
        "id": "Fu57s6RZe02a"
      },
      "source": [
        "def is_name(word):\n",
        "\treturn True if word in names else False\n",
        "\n",
        "def is_female_name(word):\n",
        "\treturn True if word in female_names else False\n",
        "\n",
        "def get_web_text(url1):\n",
        "     from bs4 import BeautifulSoup\n",
        "     from urllib import request\n",
        "     html1 = request.urlopen(url1).read().decode('utf8')\n",
        "     the_text= BeautifulSoup(html1, 'html.parser').get_text()\n",
        "     return the_text\n",
        "\n",
        "def top_names(number,text):\n",
        "    txt_names=[name for name in filter(is_name,text)]\n",
        "    names_freq=nltk.FreqDist(txt_names)\n",
        "    top_names={}\n",
        "    for name,count in names_freq.most_common(number):\n",
        "        top_names[name]=count\n",
        "    return top_names\n",
        "\n",
        "def analyze_text_names(url1):\n",
        "     web_text=nltk.word_tokenize(get_web_text(url1))\n",
        "     all_names=[name for name in filter(is_name,web_text)]\n",
        "     all_names_dict=sorted(set(all_names))\n",
        "     female_names_dict=[name for name in filter(is_female_name,all_names_dict)]\n",
        "    \n",
        "     print(\"\\r\\n url: \" + url1)\n",
        "     print(\"\\r\\n percentage of female names: \" + \"{:.1%}\".format(len(female_names_dict) / len(all_names_dict)))\n",
        "     print(\"\\r\\n all names: (\"+ str(len(all_names_dict))+\")\\r\\n\" + str(all_names_dict))\n",
        "     print(\"\\r\\n female names: (\"+str(len(female_names_dict)) +\") \\r\\n\"  + str(female_names_dict))"
      ],
      "execution_count": 60,
      "outputs": []
    },
    {
      "cell_type": "code",
      "metadata": {
        "colab": {
          "base_uri": "https://localhost:8080/"
        },
        "id": "qoMeJ1HBfuv2",
        "outputId": "42b98279-7100-4a42-a2b1-b1a54b02e62e"
      },
      "source": [
        "analyze_text_names(\"https://en.wikipedia.org/wiki/Silicon_Wadi\")"
      ],
      "execution_count": 61,
      "outputs": [
        {
          "output_type": "stream",
          "text": [
            "\r\n",
            " url: https://en.wikipedia.org/wiki/Silicon_Wadi\n",
            "\r\n",
            " percentage of female names: 38.8%\n",
            "\r\n",
            " all names: (49)\r\n",
            "['Amy', 'Andrew', 'April', 'Asia', 'August', 'Ben', 'Carmel', 'Catherine', 'Charles', 'Cookie', 'David', 'Dennis', 'Diamond', 'Ellis', 'Forrester', 'French', 'George', 'Gordon', 'Guy', 'Ingrid', 'Israel', 'Jan', 'Jean-Pierre', 'June', 'Major', 'Max', 'May', 'Mustafa', 'Nick', 'Opal', 'Park', 'Powell', 'Red', 'Roy', 'Saba', 'Seamus', 'See', 'Sheba', 'Shoshana', 'Simon', 'Solomon', 'Stanford', 'Stephen', 'Thomas', 'Verge', 'Vi', 'Viva', 'Whittaker', 'Zack']\n",
            "\r\n",
            " female names: (19) \r\n",
            "['Amy', 'April', 'Asia', 'Carmel', 'Catherine', 'Cookie', 'Diamond', 'George', 'Ingrid', 'Jan', 'June', 'Max', 'May', 'Opal', 'Saba', 'Sheba', 'Shoshana', 'Vi', 'Viva']\n"
          ],
          "name": "stdout"
        }
      ]
    },
    {
      "cell_type": "code",
      "metadata": {
        "colab": {
          "base_uri": "https://localhost:8080/"
        },
        "id": "Tkz7Fqh8fxrh",
        "outputId": "fe8106a6-f17e-48f1-8303-a93ba64e964b"
      },
      "source": [
        "analyze_text_names(\"https://en.wikipedia.org/wiki/Startup_Europe_Summit\")\n"
      ],
      "execution_count": 62,
      "outputs": [
        {
          "output_type": "stream",
          "text": [
            "\r\n",
            " url: https://en.wikipedia.org/wiki/Startup_Europe_Summit\n",
            "\r\n",
            " percentage of female names: 52.9%\n",
            "\r\n",
            " all names: (34)\r\n",
            "['Adam', 'Alberto', 'Andrus', 'Angel', 'April', 'August', 'Carlos', 'Christophe', 'Cookie', 'Emerson', 'Florian', 'France', 'French', 'Gabriel', 'Jamie', 'Jeff', 'John', 'June', 'Kat', 'La', 'Lynn', 'Maire', 'Marie', 'Marius', 'Mariya', 'Marta', 'Martin', 'May', 'Miguel', 'Mike', 'Robin', 'Shea', 'Sofia', 'Travis']\n",
            "\r\n",
            " female names: (18) \r\n",
            "['Angel', 'April', 'Cookie', 'France', 'Gabriel', 'Jamie', 'June', 'Kat', 'La', 'Lynn', 'Maire', 'Marie', 'Mariya', 'Marta', 'May', 'Robin', 'Shea', 'Sofia']\n"
          ],
          "name": "stdout"
        }
      ]
    },
    {
      "cell_type": "markdown",
      "metadata": {
        "id": "43Vetunf-0zX"
      },
      "source": [
        "# RUSSIAN MONARCY VS. FRENCH MONARCHY\n",
        "## Female names mentioned in wiki pages comparison"
      ]
    },
    {
      "cell_type": "code",
      "metadata": {
        "id": "yIg_HRx9BUNu"
      },
      "source": [
        "rus_mon=\"https://en.wikipedia.org/wiki/List_of_Russian_monarchs\"\n",
        "fran_mon=\"https://en.wikipedia.org/wiki/List_of_French_monarchs\"\n",
        "\n",
        "rusmon_txt=get_web_text(rus_mon)\n",
        "franmon_txt=get_web_text(fran_mon)"
      ],
      "execution_count": 63,
      "outputs": []
    },
    {
      "cell_type": "code",
      "metadata": {
        "id": "R1dUQEecSldR"
      },
      "source": [
        "rusmon_tokenize=nltk.word_tokenize(rusmon_txt)\n",
        "franmon_tokenize=nltk.word_tokenize(franmon_txt)"
      ],
      "execution_count": 64,
      "outputs": []
    },
    {
      "cell_type": "code",
      "metadata": {
        "id": "TpY6tE-uQf9n"
      },
      "source": [
        "def text_to_data_frame_names(lst):\n",
        "    female = [word for word in lst if word in female_names and word not in male_names]\n",
        "    female_data = pd.DataFrame(female, index=range(len(female)), columns=['Female Names'])\n",
        "    male = [word for word in lst if word in male_names]\n",
        "    male_data = pd.DataFrame(male, index=range(len(male)), columns=['Male Names'])\n",
        "    total_names = [word for word in lst if word in names]\n",
        "    data = pd.DataFrame(total_names, index=range(len(total_names)), columns=['Names'])\n",
        "    return data, male_data, female_data"
      ],
      "execution_count": 65,
      "outputs": []
    },
    {
      "cell_type": "code",
      "metadata": {
        "id": "Rs8hKLzgUw5n"
      },
      "source": [
        "rus_data, rus_male_data, rus_female_data = text_to_data_frame_names(rusmon_tokenize)\n",
        "fre_data, fre_male_data, fre_female_data = text_to_data_frame_names(franmon_tokenize)"
      ],
      "execution_count": 66,
      "outputs": []
    },
    {
      "cell_type": "code",
      "metadata": {
        "colab": {
          "base_uri": "https://localhost:8080/"
        },
        "id": "ORcz4K1bBap9",
        "outputId": "b66a9554-513f-42d8-c106-e3b9840afede"
      },
      "source": [
        "\n",
        "franmon_top_20_names = top_names(20,franmon_tokenize)\n",
        "names_fr =  franmon_top_20_names.keys()\n",
        "franmon_top_20_names.pop('France')\n",
        "franmon_top_20_names.pop('King')\n",
        "franmon_top_20_names.pop('French')\n",
        "franmon_top_20_names.pop('Son')\n",
        "franmon_top_20_names.pop('April')\n",
        "franmon_top_20_names.pop('May')\n",
        "franmon_top_20_names.pop('June')\n",
        "franmon_top_20_names.pop('August')\n",
        "\n",
        "rusmon_top_20_names = top_names(20,rusmon_tokenize)\n",
        "names_rus =  rusmon_top_20_names.keys()\n",
        "\n",
        "rusmon_top_20_names.pop('August')\n",
        "rusmon_top_20_names.pop('Prince')\n",
        "rusmon_top_20_names.pop('April')\n",
        "rusmon_top_20_names.pop('May')\n",
        "rusmon_top_20_names.pop('June')"
      ],
      "execution_count": 67,
      "outputs": [
        {
          "output_type": "execute_result",
          "data": {
            "text/plain": [
              "25"
            ]
          },
          "metadata": {
            "tags": []
          },
          "execution_count": 67
        }
      ]
    },
    {
      "cell_type": "markdown",
      "metadata": {
        "id": "4eZRdrBmbr8L"
      },
      "source": [
        "# Visualisations"
      ]
    },
    {
      "cell_type": "code",
      "metadata": {
        "colab": {
          "base_uri": "https://localhost:8080/",
          "height": 506
        },
        "id": "rjdS8I2ND_-3",
        "outputId": "c3933af0-feb9-4772-84c3-dcd252ed6051"
      },
      "source": [
        "plt.figure(figsize=(15,3))\n",
        "plt.style.use('dark_background')\n",
        "\n",
        "fig, ax = plt.subplots()\n",
        "\n",
        "y_pos = np.arange(len(names_fr))\n",
        "fr_val = franmon_top_20_names.values()\n",
        "\n",
        "ax.barh(y_pos, fr_val, align='center',color='darkorchid')\n",
        "ax.set_yticks(y_pos)\n",
        "ax.set_yticklabels(names_fr)\n",
        "ax.invert_yaxis()  \n",
        "ax.set_xlabel('Frequancy')\n",
        "ax.set_title('French Monarchs top 20')"
      ],
      "execution_count": 68,
      "outputs": [
        {
          "output_type": "execute_result",
          "data": {
            "text/plain": [
              "Text(0.5, 1.0, 'French Monarchs top 20')"
            ]
          },
          "metadata": {
            "tags": []
          },
          "execution_count": 68
        },
        {
          "output_type": "display_data",
          "data": {
            "text/plain": [
              "<Figure size 1500x300 with 0 Axes>"
            ]
          },
          "metadata": {
            "tags": []
          }
        },
        {
          "output_type": "display_data",
          "data": {
            "image/png": "[encoded data removed]",
            "text/plain": [
              "<Figure size 640x480 with 1 Axes>"
            ]
          },
          "metadata": {
            "tags": []
          }
        }
      ]
    },
    {
      "cell_type": "code",
      "metadata": {
        "colab": {
          "base_uri": "https://localhost:8080/",
          "height": 489
        },
        "id": "HyiDsdSN_8LL",
        "outputId": "865b178a-2f43-46ac-f45a-28deb092cc5a"
      },
      "source": [
        "\n",
        "fig, ax = plt.subplots()\n",
        "y_pos = np.arange(len(names_rus))\n",
        "ru_val = rusmon_top_20_names.values()\n",
        "\n",
        "ax.barh(y_pos, ru_val, align='center',color='darksalmon')\n",
        "ax.set_yticks(y_pos)\n",
        "ax.set_yticklabels(names_rus)\n",
        "ax.invert_yaxis()  \n",
        "ax.set_xlabel('Frequancy')\n",
        "ax.set_title('Russian Monarchs top 20')"
      ],
      "execution_count": 69,
      "outputs": [
        {
          "output_type": "execute_result",
          "data": {
            "text/plain": [
              "Text(0.5, 1.0, 'Russian Monarchs top 20')"
            ]
          },
          "metadata": {
            "tags": []
          },
          "execution_count": 69
        },
        {
          "output_type": "display_data",
          "data": {
            "image/png": "[encoded data removed]",
            "text/plain": [
              "<Figure size 640x480 with 1 Axes>"
            ]
          },
          "metadata": {
            "tags": []
          }
        }
      ]
    },
    {
      "cell_type": "code",
      "metadata": {
        "colab": {
          "base_uri": "https://localhost:8080/",
          "height": 468
        },
        "id": "h-C56PHbRKaM",
        "outputId": "bf4a8f5b-84a9-4522-f12b-3629d189e1e7"
      },
      "source": [
        "male_rus = rus_male_data.nunique()[0]/rus_data.nunique()[0]\n",
        "female_rus =  rus_female_data.nunique()[0]/rus_data.nunique()[0]\n",
        "\n",
        "male_fre = fre_male_data.nunique()[0]/fre_data.nunique()[0]\n",
        "female_fre =  fre_female_data.nunique()[0]/fre_data.nunique()[0]\n",
        "\n",
        "colors = ['dodgerblue', 'pink']\n",
        "\n",
        "plt.figure(figsize=(8,5))\n",
        "plt.title(\"Russian Monarchy Vs. French Monarchy\")\n",
        "plt.bar(['Russian Monarchy','French Monarchy'],[male_rus, male_fre],color = colors[0])\n",
        "plt.bar(['Russian Monarchy','French Monarchy'],[female_rus,female_fre],bottom=[male_rus,male_fre],color = colors[1])\n",
        "plt.legend(['Male Names','Female Names'],bbox_to_anchor=(1.05, 1), loc='upper left', borderaxespad=0.)\n",
        "plt.show()"
      ],
      "execution_count": 70,
      "outputs": [
        {
          "output_type": "display_data",
          "data": {
            "image/png": "[encoded data removed]",
            "text/plain": [
              "<Figure size 800x500 with 1 Axes>"
            ]
          },
          "metadata": {
            "tags": []
          }
        }
      ]
    },
    {
      "cell_type": "markdown",
      "metadata": {
        "id": "rElMOGIWaqcz"
      },
      "source": [
        ""
      ]
    }
  ]
}